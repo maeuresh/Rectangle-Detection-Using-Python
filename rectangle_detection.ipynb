{
 "cells": [
  {
   "cell_type": "code",
   "execution_count": null,
   "id": "7f255936",
   "metadata": {},
   "outputs": [],
   "source": [
    "import cv2\n",
    "import numpy as np\n",
    "\n",
    "#Font for the text\n",
    "font = cv2.FONT_HERSHEY_TRIPLEX\n",
    "\n",
    "#Reading the image in Grayscale \n",
    "img = cv2.imread(\"C:/Users/HI/Downloads/shapes3.png\", cv2.IMREAD_GRAYSCALE)\n",
    "\n",
    "\"\"\"\n",
    "#Apply adaptive thresholding (255-Max pixel value)\n",
    "#cv2.ADAPTIVE_THRESH_MEAN_C - calculate the threshold value of the pixel based on the mean of the area (11)\n",
    "#cv2.THRESH_BINARY - Bianry_threshold (0 - black, 255 - white)\n",
    "\"\"\"\n",
    "threshold = cv2.adaptiveThreshold(img, 255, cv2.ADAPTIVE_THRESH_MEAN_C, cv2.THRESH_BINARY, 11, 2)\n",
    "\n",
    "#cv2.CHAIN_APPROX_SIMPLE - contour approximation method (Only take the endpoints from the line segemnts)\n",
    "contours, _ = cv2.findContours(threshold, cv2.RETR_TREE, cv2.CHAIN_APPROX_SIMPLE)\n",
    "\n",
    "\n",
    "\n",
    "for cnt in contours:\n",
    "    \n",
    "    #Approximating the Contour\n",
    "    approx = cv2.approxPolyDP(cnt, 0.01*cv2.arcLength(cnt, True), True)\n",
    "    \n",
    "    #Draw Contour Over original Image (index of contour, color, thickness)\n",
    "    #approx - list containing single contorss\n",
    "    cv2.drawContours(img, [approx], 0, (0), 5)\n",
    "\n",
    "    #Calculate the centroid of the shape\n",
    "    M = cv2.moments(approx)\n",
    "    if M[\"m00\"] != 0:\n",
    "        x = int(M[\"m10\"] / M[\"m00\"])\n",
    "        y = int(M[\"m01\"] / M[\"m00\"])\n",
    "    else:\n",
    "        x, y = 0, 0\n",
    "\n",
    "    #calssify the shape based on the approx contour    \n",
    "    if len(approx) == 4:\n",
    "        cv2.putText(img, \"Rectangle\", (x - 40, y), font, 1, (0))\n",
    "\n",
    "cv2.imshow(\"shapes\", img)\n",
    "cv2.imshow(\"Threshold\", threshold)\n",
    "cv2.waitKey(0)\n",
    "cv2.destroyAllWindows()\n"
   ]
  }
 ],
 "metadata": {
  "kernelspec": {
   "display_name": "Python 3 (ipykernel)",
   "language": "python",
   "name": "python3"
  },
  "language_info": {
   "codemirror_mode": {
    "name": "ipython",
    "version": 3
   },
   "file_extension": ".py",
   "mimetype": "text/x-python",
   "name": "python",
   "nbconvert_exporter": "python",
   "pygments_lexer": "ipython3",
   "version": "3.11.5"
  }
 },
 "nbformat": 4,
 "nbformat_minor": 5
}
